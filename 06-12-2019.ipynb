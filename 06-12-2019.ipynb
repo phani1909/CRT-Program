{
 "cells": [
  {
   "cell_type": "code",
   "execution_count": null,
   "metadata": {},
   "outputs": [],
   "source": [
    "# give two initial values as input\n",
    "#print the output as square of second number if first number is greater and vise versa\n",
    "#include<stdio.h>\n",
    "int main()\n",
    "{\n",
    "\tint x,y;\n",
    "\tscanf(\"%d%d\",&x,&y);\n",
    "\tif(x>y)\n",
    "\t{\n",
    "\t\tprintf(\"%d\",y*y);\n",
    "\t}\n",
    "\telse\n",
    "\t{\n",
    "\t\tprintf(\"&d\",x*x);\n",
    "\t}\n",
    "\treturn 0;\n",
    "}"
   ]
  },
  {
   "cell_type": "code",
   "execution_count": null,
   "metadata": {},
   "outputs": [],
   "source": [
    "# read the age of the person as input and print the output as eligible for voting or not\n",
    "#include<stdio.h>\n",
    "int main()\n",
    "{\n",
    "\tint age;\n",
    "\tscanf(\"%d\",&age);\n",
    "\tif(age >= 18 && age <= 85)\n",
    "\t{\n",
    "\t\tprintf(\"eligible for voting\");\n",
    "\t}\n",
    "\telse\n",
    "\t{\n",
    "\t\tprintf(\"not eligible for voting\");\n",
    "\t}\n",
    "\treturn 0;\n",
    "}"
   ]
  },
  {
   "cell_type": "code",
   "execution_count": null,
   "metadata": {},
   "outputs": [],
   "source": [
    "# read the character as input and check whether it is upper case,lower case or digit\n",
    "# test cases :\n",
    "      a - lower case character\n",
    "      A - upper case character \n",
    "    #include<stdio.h>\n",
    "int main()\n",
    "{\n",
    "\tchar a;\n",
    "\tscanf(\"%c\",&a);\n",
    "\tif(a >= 65 && a <= 90)\n",
    "\t{\n",
    "\t\tprintf(\"upper case character\");\n",
    "\t}\n",
    "\telse if(a >= 97 && a <= 122)\n",
    "\t{\n",
    "\t\tprintf(\"lower case character\");\n",
    "\t}\n",
    "\telse if(a >= 48 && a <= 57)\n",
    "\t{\n",
    "\t\tprintf(\"digit character\");\n",
    "\t}\n",
    "\treturn 0;\n",
    "}"
   ]
  },
  {
   "cell_type": "code",
   "execution_count": null,
   "metadata": {},
   "outputs": [],
   "source": [
    "# read the input as character and print the output as whether it is vowel or consonant\n",
    "   test cases:\n",
    "        a - vowel\n",
    "        s - consonant\n",
    "        #include<stdio.h>\n",
    "int main()\n",
    "{\n",
    "\tchar a;\n",
    "\tscanf(\"%c\",&a);\n",
    "\tif(a == 'a' || a == 'e' || a == 'i' || a == 'o' || a == 'u')\n",
    "\t{\n",
    "\t\tprintf(\"vowel\");\n",
    "\t}\n",
    "\telse\n",
    "\t{\n",
    "\t\tprintf(\"consonant\");\n",
    "\t}\n",
    "\treturn 0;\n",
    "}"
   ]
  },
  {
   "cell_type": "code",
   "execution_count": null,
   "metadata": {},
   "outputs": [],
   "source": [
    "# read the  input as a number and check whether it is perfectly divisible by 3 and 5 or not\n",
    "   test cases :\n",
    "        15 - yes\n",
    "        12 - no\n",
    "        #include<stdio.h>\n",
    "int main()\n",
    "{\n",
    "\tint x;\n",
    "\tscanf(\"%d\",&x);\n",
    "\tif(x%3==0 && x%5==0)\n",
    "\t{\n",
    "\t\tprintf(\"yes\");\n",
    "\t}\n",
    "\telse\n",
    "\t{\n",
    "\t\tprintf(\"no\");\n",
    "\t}\n",
    "\treturn 0;\n",
    "}"
   ]
  },
  {
   "cell_type": "code",
   "execution_count": null,
   "metadata": {},
   "outputs": [],
   "source": [
    "# read the input as a number(week number) and print the output as week name\n",
    "   test cases :\n",
    "        1 --- sunday\n",
    "        3 --- tuesday\n",
    "        7 --- saturday\n",
    "    #include<stdio.h>\n",
    "int main()\n",
    "{\n",
    "\tint x;\n",
    "\tscanf(\"%d\",&x);\n",
    "\tswitch(x)\n",
    "\t{\n",
    "\t\tcase 1:printf(\"sunday\");\n",
    "\t\tbreak;\n",
    "\t\tcase 2:printf(\"monday\");\n",
    "\t\tbreak;\n",
    "\t\tcase 3:printf(\"tuesday\");\n",
    "\t\tbreak;\n",
    "\t\tcase 4:printf(\"wednesday\");\n",
    "\t\tbreak;\n",
    "\t}\n",
    "\treturn 0;\n",
    "}\n"
   ]
  },
  {
   "cell_type": "code",
   "execution_count": null,
   "metadata": {},
   "outputs": [],
   "source": [
    "# res"
   ]
  }
 ],
 "metadata": {
  "kernelspec": {
   "display_name": "Python 3",
   "language": "python",
   "name": "python3"
  },
  "language_info": {
   "codemirror_mode": {
    "name": "ipython",
    "version": 3
   },
   "file_extension": ".py",
   "mimetype": "text/x-python",
   "name": "python",
   "nbconvert_exporter": "python",
   "pygments_lexer": "ipython3",
   "version": "3.7.1"
  }
 },
 "nbformat": 4,
 "nbformat_minor": 2
}
