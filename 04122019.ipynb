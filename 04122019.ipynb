{
 "cells": [
  {
   "cell_type": "markdown",
   "metadata": {},
   "source": [
    "# Day objectives\n",
    "- loop examples\n",
    "- functions(user defined functions)\n",
    "- list,tuples and string"
   ]
  },
  {
   "cell_type": "code",
   "execution_count": 1,
   "metadata": {},
   "outputs": [],
   "source": [
    "# read the number as input\n",
    "# print the output as digits of the number\n",
    "# test cases :\n",
    "# 145  --  5 4 1\n",
    "# 123  --  3 2 1"
   ]
  },
  {
   "cell_type": "code",
   "execution_count": 3,
   "metadata": {},
   "outputs": [
    {
     "name": "stdout",
     "output_type": "stream",
     "text": [
      " 145\n",
      "5 4 1 "
     ]
    }
   ],
   "source": [
    "a = int(input(' '))\n",
    "while a != 0 :\n",
    "    r = a % 10\n",
    "    print(r,end = ' ')\n",
    "    a = a//10"
   ]
  },
  {
   "cell_type": "markdown",
   "metadata": {},
   "source": [
    "# Functions in Programming\n",
    "- program will be divided into sub parts\n",
    "- it makes the re-use of the code \n",
    "- functions makes the programming more easier\n",
    "- def is keyword which is used to define the function\n",
    "- function name follows the camel case always\n",
    "     - fun() isPalindrome() isPalindromeCheck()\n",
    "- defination of the function can be anything for the given requirement\n",
    "- def functionname():\n",
    "      - statements\n",
    "      - return"
   ]
  },
  {
   "cell_type": "code",
   "execution_count": 4,
   "metadata": {},
   "outputs": [],
   "source": [
    "# read the input as a number\n",
    "# print the output as large digit of the given number\n",
    "# 58952 -- 9\n",
    "# 753124 -- 7\n",
    "def largeDigit(n):\n",
    "    return\n",
    "largeDigit(58952) # 9"
   ]
  },
  {
   "cell_type": "code",
   "execution_count": 7,
   "metadata": {},
   "outputs": [
    {
     "name": "stdout",
     "output_type": "stream",
     "text": [
      " 58952\n"
     ]
    },
    {
     "data": {
      "text/plain": [
       "9"
      ]
     },
     "execution_count": 7,
     "metadata": {},
     "output_type": "execute_result"
    }
   ],
   "source": [
    "def largedigit(n):\n",
    "    large = 0\n",
    "    while n != 0 :\n",
    "        r = n % 10\n",
    "        if large < r:\n",
    "            large = r\n",
    "        n = n // 10\n",
    "    return large\n",
    "n = int(input(' '))\n",
    "largedigit(n)\n"
   ]
  },
  {
   "cell_type": "code",
   "execution_count": 8,
   "metadata": {},
   "outputs": [
    {
     "name": "stdout",
     "output_type": "stream",
     "text": [
      " 145\n"
     ]
    },
    {
     "data": {
      "text/plain": [
       "10"
      ]
     },
     "execution_count": 8,
     "metadata": {},
     "output_type": "execute_result"
    }
   ],
   "source": [
    "# read the input as a number \n",
    "# sum of digits of given number\n",
    "def sumOfDigits(n):\n",
    "    s=0\n",
    "    while n != 0 :\n",
    "        r = n % 10\n",
    "        s = s + r\n",
    "        n = n // 10\n",
    "    return s\n",
    "n = int(input(' '))\n",
    "sumOfDigits(n)"
   ]
  },
  {
   "cell_type": "code",
   "execution_count": 12,
   "metadata": {},
   "outputs": [
    {
     "name": "stdout",
     "output_type": "stream",
     "text": [
      " 121\n"
     ]
    },
    {
     "data": {
      "text/plain": [
       "'Palindrome'"
      ]
     },
     "execution_count": 12,
     "metadata": {},
     "output_type": "execute_result"
    }
   ],
   "source": [
    "# read the input as a number \n",
    "# print the output as \"Palindrome\" or \"Not a Palindrome\"\n",
    "# a numuber reversed itself is called a palindrome\n",
    "# 121 -- palindrome\n",
    "# 1889 -- not a palindrome\n",
    "# 145 -- not palindrome\n",
    "def isPalindrome(n):\n",
    "    s = 0\n",
    "    buffer = n\n",
    "    while n != 0:\n",
    "        r = n % 10\n",
    "        s = s * 10 + r\n",
    "        n = n // 10\n",
    "    if s == buffer:\n",
    "        return \"Palindrome\"\n",
    "    else:\n",
    "        return \"Not a Palindrome\"\n",
    "    return\n",
    "n = int(input(' '))\n",
    "isPalindrome(n)"
   ]
  },
  {
   "cell_type": "code",
   "execution_count": 13,
   "metadata": {},
   "outputs": [
    {
     "name": "stdout",
     "output_type": "stream",
     "text": [
      " 59582\n"
     ]
    },
    {
     "data": {
      "text/plain": [
       "8"
      ]
     },
     "execution_count": 13,
     "metadata": {},
     "output_type": "execute_result"
    }
   ],
   "source": [
    "# read the number as input\n",
    "# print the large digit from last three positions of a number\n",
    "# test cases:\n",
    "# 59852 -- 8\n",
    "# 175215 -- 5\n",
    "def printlargedigit(n):\n",
    "    i = 0\n",
    "    large = 0\n",
    "    while i != 3:\n",
    "        r = n % 10\n",
    "        if large < r:\n",
    "            large = r\n",
    "        n = n // 10\n",
    "        i= i + 1\n",
    "    return large\n",
    "n = int(input(' '))\n",
    "printlargedigit(n)\n",
    "    "
   ]
  },
  {
   "cell_type": "markdown",
   "metadata": {},
   "source": [
    "# Data structures in Python Programming\n",
    "- List\n",
    "- Tuples\n",
    "- Dictonaries\n",
    "- Sets"
   ]
  },
  {
   "cell_type": "code",
   "execution_count": 14,
   "metadata": {},
   "outputs": [
    {
     "name": "stdout",
     "output_type": "stream",
     "text": [
      "[1, 2, 3, 4, 5]\n"
     ]
    }
   ],
   "source": [
    "li = [1,2,3,4,5]\n",
    "print(li)"
   ]
  },
  {
   "cell_type": "code",
   "execution_count": 15,
   "metadata": {},
   "outputs": [
    {
     "name": "stdout",
     "output_type": "stream",
     "text": [
      "[1, 2, 'gitam', 186, 2]\n"
     ]
    }
   ],
   "source": [
    "li1 = [1,2,\"gitam\",186,2]\n",
    "print(li1)"
   ]
  },
  {
   "cell_type": "code",
   "execution_count": 18,
   "metadata": {},
   "outputs": [
    {
     "name": "stdout",
     "output_type": "stream",
     "text": [
      "1 2 3 4 5 "
     ]
    }
   ],
   "source": [
    "for i in range(len(li)):\n",
    "    print(li[i],end = ' ')"
   ]
  },
  {
   "cell_type": "code",
   "execution_count": null,
   "metadata": {},
   "outputs": [],
   "source": []
  }
 ],
 "metadata": {
  "kernelspec": {
   "display_name": "Python 3",
   "language": "python",
   "name": "python3"
  },
  "language_info": {
   "codemirror_mode": {
    "name": "ipython",
    "version": 3
   },
   "file_extension": ".py",
   "mimetype": "text/x-python",
   "name": "python",
   "nbconvert_exporter": "python",
   "pygments_lexer": "ipython3",
   "version": "3.7.1"
  }
 },
 "nbformat": 4,
 "nbformat_minor": 2
}
