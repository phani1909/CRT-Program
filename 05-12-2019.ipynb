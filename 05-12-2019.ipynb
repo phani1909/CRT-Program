{
 "cells": [
  {
   "cell_type": "markdown",
   "metadata": {},
   "source": [
    "# List and List related examples"
   ]
  },
  {
   "cell_type": "code",
   "execution_count": 36,
   "metadata": {},
   "outputs": [
    {
     "name": "stdout",
     "output_type": "stream",
     "text": [
      "5\n"
     ]
    }
   ],
   "source": [
    "li = [1,2,3,4,5]\n",
    "print(len(li))  # len() which will return the len of the list"
   ]
  },
  {
   "cell_type": "code",
   "execution_count": 37,
   "metadata": {},
   "outputs": [
    {
     "name": "stdout",
     "output_type": "stream",
     "text": [
      "[1, 2, 2000, 4, 5]\n"
     ]
    }
   ],
   "source": [
    "li[2] = 2000 # update the list item value\n",
    "print(li)"
   ]
  },
  {
   "cell_type": "code",
   "execution_count": 38,
   "metadata": {},
   "outputs": [
    {
     "name": "stdout",
     "output_type": "stream",
     "text": [
      "[1, 2, 2000, 5]\n"
     ]
    }
   ],
   "source": [
    "del li[3] # del the specific index value\n",
    "# del li #del the entir list\n",
    "print(li)"
   ]
  },
  {
   "cell_type": "code",
   "execution_count": 23,
   "metadata": {},
   "outputs": [
    {
     "name": "stdout",
     "output_type": "stream",
     "text": [
      "5\n"
     ]
    }
   ],
   "source": [
    "print(li[-1]) # to access the last item of the list"
   ]
  },
  {
   "cell_type": "code",
   "execution_count": 39,
   "metadata": {},
   "outputs": [
    {
     "name": "stdout",
     "output_type": "stream",
     "text": [
      "2\n"
     ]
    }
   ],
   "source": [
    "print(li[-3])"
   ]
  },
  {
   "cell_type": "code",
   "execution_count": 40,
   "metadata": {},
   "outputs": [
    {
     "name": "stdout",
     "output_type": "stream",
     "text": [
      "[2, 2000, 5]\n",
      "[5]\n"
     ]
    }
   ],
   "source": [
    "print(li[1:4]) # list slicing\n",
    "print(li[3:4])"
   ]
  },
  {
   "cell_type": "code",
   "execution_count": 41,
   "metadata": {},
   "outputs": [
    {
     "name": "stdout",
     "output_type": "stream",
     "text": [
      "2008\n",
      "2000\n",
      "1\n",
      "502\n"
     ]
    }
   ],
   "source": [
    "# methods of list\n",
    "print(sum(li))\n",
    "print(max(li))\n",
    "print(min(li))\n",
    "print(sum(li)//len(li)) # average value"
   ]
  },
  {
   "cell_type": "code",
   "execution_count": 42,
   "metadata": {},
   "outputs": [
    {
     "data": {
      "text/plain": [
       "[1, 2, 2000, 5, 200]"
      ]
     },
     "execution_count": 42,
     "metadata": {},
     "output_type": "execute_result"
    }
   ],
   "source": [
    "# list methods \n",
    "li.append(200) # append will insert the new list item at the end\n",
    "li"
   ]
  },
  {
   "cell_type": "code",
   "execution_count": 43,
   "metadata": {},
   "outputs": [
    {
     "data": {
      "text/plain": [
       "[1, 2, 2000, 59, 5, 200]"
      ]
     },
     "execution_count": 43,
     "metadata": {},
     "output_type": "execute_result"
    }
   ],
   "source": [
    "li.insert(3,59) # places the value in respective index\n",
    "li"
   ]
  },
  {
   "cell_type": "code",
   "execution_count": 44,
   "metadata": {},
   "outputs": [
    {
     "data": {
      "text/plain": [
       "1"
      ]
     },
     "execution_count": 44,
     "metadata": {},
     "output_type": "execute_result"
    }
   ],
   "source": [
    "li.count(59) # counts the value how many times it is repeated"
   ]
  },
  {
   "cell_type": "code",
   "execution_count": 45,
   "metadata": {},
   "outputs": [
    {
     "data": {
      "text/plain": [
       "3"
      ]
     },
     "execution_count": 45,
     "metadata": {},
     "output_type": "execute_result"
    }
   ],
   "source": [
    "li.index(59) # gives the index value"
   ]
  },
  {
   "cell_type": "code",
   "execution_count": 46,
   "metadata": {},
   "outputs": [
    {
     "data": {
      "text/plain": [
       "[1, 2, 5, 59, 200, 2000]"
      ]
     },
     "execution_count": 46,
     "metadata": {},
     "output_type": "execute_result"
    }
   ],
   "source": [
    "li.sort() # sorts the entire list\n",
    "li"
   ]
  },
  {
   "cell_type": "code",
   "execution_count": 47,
   "metadata": {},
   "outputs": [
    {
     "data": {
      "text/plain": [
       "[1, 2, 5, 59, 200]"
      ]
     },
     "execution_count": 47,
     "metadata": {},
     "output_type": "execute_result"
    }
   ],
   "source": [
    "li.pop()\n",
    "li"
   ]
  },
  {
   "cell_type": "code",
   "execution_count": 48,
   "metadata": {},
   "outputs": [
    {
     "data": {
      "text/plain": [
       "[1, 2, 59, 200]"
      ]
     },
     "execution_count": 48,
     "metadata": {},
     "output_type": "execute_result"
    }
   ],
   "source": [
    "li.pop(2)\n",
    "li"
   ]
  },
  {
   "cell_type": "code",
   "execution_count": 49,
   "metadata": {},
   "outputs": [
    {
     "data": {
      "text/plain": [
       "25"
      ]
     },
     "execution_count": 49,
     "metadata": {},
     "output_type": "execute_result"
    }
   ],
   "source": [
    "# define a function to find out second large of the list\n",
    "# list = [1,9,16,25,2,3,65]\n",
    "# output = 25\n",
    "def secondlarge(li):\n",
    "    li.sort()\n",
    "    return li[-2]\n",
    "li = [1,9,16,25,2,3,65]\n",
    "secondlarge(li)"
   ]
  },
  {
   "cell_type": "code",
   "execution_count": 51,
   "metadata": {},
   "outputs": [
    {
     "data": {
      "text/plain": [
       "16"
      ]
     },
     "execution_count": 51,
     "metadata": {},
     "output_type": "execute_result"
    }
   ],
   "source": [
    "def genericlarge(li,n):\n",
    "    li.sort()\n",
    "    return li[-n]\n",
    "genericlarge(li,3)"
   ]
  },
  {
   "cell_type": "code",
   "execution_count": 52,
   "metadata": {},
   "outputs": [
    {
     "data": {
      "text/plain": [
       "1"
      ]
     },
     "execution_count": 52,
     "metadata": {},
     "output_type": "execute_result"
    }
   ],
   "source": [
    "def genericleast(li,n):\n",
    "    li.sort()\n",
    "    return li[-n]\n",
    "genericleast(li,0)"
   ]
  },
  {
   "cell_type": "markdown",
   "metadata": {},
   "source": [
    "# Number to list conversion\n",
    "    - 19563212 - [1,9,5,6,3,2,1,2]"
   ]
  },
  {
   "cell_type": "code",
   "execution_count": 53,
   "metadata": {},
   "outputs": [
    {
     "data": {
      "text/plain": [
       "[1, 9, 5, 6, 3, 2, 1, 2]"
      ]
     },
     "execution_count": 53,
     "metadata": {},
     "output_type": "execute_result"
    }
   ],
   "source": [
    "def numberToList(n):\n",
    "    li = [] # empty list \n",
    "    while n != 0:\n",
    "        r = n % 10\n",
    "        li.append(r)\n",
    "        n = n // 10\n",
    "    li.reverse()\n",
    "    return li\n",
    "numberToList(19563212)"
   ]
  },
  {
   "cell_type": "markdown",
   "metadata": {},
   "source": [
    "# Data Sturctures - Tuples\n",
    "  - it is similar to list object\n",
    "  - list will be enclosed in square brackets [] and Tuples\n",
    "  - will be enclosed in paraenthsis()\n",
    "  - list can be increased / decreased and Tuples is fixed so that\n",
    "  - you can't increase and decrease the Tuple\n",
    "  - it means list is mutable and Tuple is immutable\n",
    "  - list will be used for read and write but Tuple is only for reading "
   ]
  },
  {
   "cell_type": "markdown",
   "metadata": {},
   "source": [
    "t1 = (1,1,5,6,2)\n",
    "t1"
   ]
  },
  {
   "cell_type": "code",
   "execution_count": 55,
   "metadata": {},
   "outputs": [
    {
     "data": {
      "text/plain": [
       "(1, 1, 5, 6)"
      ]
     },
     "execution_count": 55,
     "metadata": {},
     "output_type": "execute_result"
    }
   ],
   "source": [
    "t1[0:4]"
   ]
  },
  {
   "cell_type": "code",
   "execution_count": 59,
   "metadata": {},
   "outputs": [
    {
     "data": {
      "text/plain": [
       "2"
      ]
     },
     "execution_count": 59,
     "metadata": {},
     "output_type": "execute_result"
    }
   ],
   "source": [
    "t1.count(1)"
   ]
  },
  {
   "cell_type": "markdown",
   "metadata": {},
   "source": [
    "# Data Sturcture - Dictionaries\n",
    "-  this data structure object will works on keys and\n",
    "-  there will be unique key set will be defined\n",
    "-  every key is separated from its value by colon(:)\n",
    "-  every key and value pair is separeted by comma(,)\n",
    "-  it is defined in curl brackets{}"
   ]
  },
  {
   "cell_type": "code",
   "execution_count": 61,
   "metadata": {},
   "outputs": [
    {
     "name": "stdout",
     "output_type": "stream",
     "text": [
      "{'name': 'phani', 'emailID': 'phani@gmail.com', 'mobile number': '9965214854'}\n"
     ]
    }
   ],
   "source": [
    "# Define a dict d1 = {}\n",
    "d1 = {\"name\":\"phani\", \"emailID\":\"phani@gmail.com\", \"mobile number\": \"9965214854\"}\n",
    "print(d1)      "
   ]
  },
  {
   "cell_type": "code",
   "execution_count": 62,
   "metadata": {},
   "outputs": [
    {
     "name": "stdout",
     "output_type": "stream",
     "text": [
      "phani@gmail.com\n"
     ]
    }
   ],
   "source": [
    "print(d1[\"emailID\"]) # to access the specific key value"
   ]
  },
  {
   "cell_type": "code",
   "execution_count": 64,
   "metadata": {},
   "outputs": [
    {
     "data": {
      "text/plain": [
       "{'name': 'phani', 'emailID': 'phani@gmail.com', 'mobile number': 9336852140}"
      ]
     },
     "execution_count": 64,
     "metadata": {},
     "output_type": "execute_result"
    }
   ],
   "source": [
    "d1[\"mobile number\"] = 9336852140 # update the dict value \n",
    "d1"
   ]
  },
  {
   "cell_type": "markdown",
   "metadata": {},
   "source": [
    "# Contact Application\n",
    "-  Used Concepts : dict,list and tuples\n",
    "# Modules of contact application\n",
    "-  add contacts\n",
    "-  search contacts\n",
    "-  import new contacts\n",
    "-  update contacts\n",
    "-  delete the contacts"
   ]
  },
  {
   "cell_type": "code",
   "execution_count": 68,
   "metadata": {},
   "outputs": [
    {
     "name": "stdout",
     "output_type": "stream",
     "text": [
      "contact added\n",
      "contact added\n",
      "contact is not added\n"
     ]
    }
   ],
   "source": [
    "contacts = {}  # empty dict object\n",
    "# define the function for add contacts\n",
    "def addcontacts(name,phone):\n",
    "    if name not in contacts:\n",
    "        contacts[name] = phone\n",
    "        print(\"contact added\")\n",
    "    else :\n",
    "        print(\"contact is not added\")\n",
    "    return\n",
    "addcontacts('phani',9988552211) # contact added\n",
    "addcontacts('ajay',9988551111) # contact added\n",
    "addcontacts('phani',9988552211) # contact is not added "
   ]
  },
  {
   "cell_type": "code",
   "execution_count": 73,
   "metadata": {},
   "outputs": [
    {
     "data": {
      "text/plain": [
       "{'phani': 9988552211,\n",
       " 'ajay': 9988551111,\n",
       " 'yash': 9966552244,\n",
       " 'sai': 8855992211}"
      ]
     },
     "execution_count": 73,
     "metadata": {},
     "output_type": "execute_result"
    }
   ],
   "source": [
    "contacts"
   ]
  },
  {
   "cell_type": "code",
   "execution_count": 71,
   "metadata": {},
   "outputs": [
    {
     "name": "stdout",
     "output_type": "stream",
     "text": [
      "phani  :  9988552211\n",
      "ajay  :  9988551111\n",
      "contact is not present\n"
     ]
    }
   ],
   "source": [
    "# define function for search contact\n",
    "def searchcontact(name):\n",
    "    if name in contacts:\n",
    "        print(name,\" : \" , contacts[name])\n",
    "    else:\n",
    "        print('contact is not present')\n",
    "    return\n",
    "searchcontact('phani') # phani : 9988552211\n",
    "searchcontact('ajay') # ajay : 9988551111\n",
    "searchcontact('yash') # contact not found "
   ]
  },
  {
   "cell_type": "code",
   "execution_count": 72,
   "metadata": {},
   "outputs": [
    {
     "name": "stdout",
     "output_type": "stream",
     "text": [
      "new contacts are added\n"
     ]
    }
   ],
   "source": [
    "# define the function for import the new contacts\n",
    "def importcontacts(newcontacts):\n",
    "    contacts.update(newcontacts)\n",
    "    print('new contacts are added')\n",
    "    return\n",
    "newcontacts = {\"yash\" : 9966552244,\"sai\" : 8855992211}\n",
    "importcontacts(newcontacts)"
   ]
  },
  {
   "cell_type": "code",
   "execution_count": 74,
   "metadata": {},
   "outputs": [
    {
     "data": {
      "text/plain": [
       "{'phani': 9988552211,\n",
       " 'ajay': 9988551111,\n",
       " 'yash': 9966552244,\n",
       " 'sai': 8855992211}"
      ]
     },
     "execution_count": 74,
     "metadata": {},
     "output_type": "execute_result"
    }
   ],
   "source": [
    "contacts"
   ]
  },
  {
   "cell_type": "code",
   "execution_count": 75,
   "metadata": {},
   "outputs": [
    {
     "name": "stdout",
     "output_type": "stream",
     "text": [
      "contact update is successful\n",
      "please add new contact details\n"
     ]
    }
   ],
   "source": [
    "# define a function for update details\n",
    "def updatedetails(name,phone):\n",
    "    if name in contacts:\n",
    "        contacts[name] = phone\n",
    "        print('contact update is successful')\n",
    "    else :\n",
    "        print('please add new contact details')\n",
    "    return\n",
    "updatedetails('phani',9958224400) # update is successful\n",
    "updatedetails('vineeth',9911002233) # please add contact"
   ]
  },
  {
   "cell_type": "code",
   "execution_count": 76,
   "metadata": {},
   "outputs": [
    {
     "data": {
      "text/plain": [
       "{'phani': 9958224400,\n",
       " 'ajay': 9988551111,\n",
       " 'yash': 9966552244,\n",
       " 'sai': 8855992211}"
      ]
     },
     "execution_count": 76,
     "metadata": {},
     "output_type": "execute_result"
    }
   ],
   "source": [
    "contacts"
   ]
  },
  {
   "cell_type": "code",
   "execution_count": 77,
   "metadata": {},
   "outputs": [
    {
     "name": "stdout",
     "output_type": "stream",
     "text": [
      "contact is deleted\n",
      "contact is not present\n"
     ]
    }
   ],
   "source": [
    "# define function to delete the contact details\n",
    "def deletecontact(name):\n",
    "    if name in contacts:\n",
    "        del contacts[name]\n",
    "        print('contact is deleted')\n",
    "    else:\n",
    "        print('contact is not present')\n",
    "    return\n",
    "deletecontact('yash') # contact is deleted\n",
    "deletecontact('vineeth') # contact is not present"
   ]
  },
  {
   "cell_type": "code",
   "execution_count": 78,
   "metadata": {},
   "outputs": [
    {
     "data": {
      "text/plain": [
       "{'phani': 9958224400, 'ajay': 9988551111, 'sai': 8855992211}"
      ]
     },
     "execution_count": 78,
     "metadata": {},
     "output_type": "execute_result"
    }
   ],
   "source": [
    "contacts"
   ]
  },
  {
   "cell_type": "markdown",
   "metadata": {},
   "source": [
    "# String to List Conversion\n",
    "- \"1 2 3 4 5 6\" - [1,2,3,4,5,6]"
   ]
  },
  {
   "cell_type": "code",
   "execution_count": 79,
   "metadata": {},
   "outputs": [
    {
     "name": "stdout",
     "output_type": "stream",
     "text": [
      "enter a number1 2 3 4 5 6\n",
      "<class 'str'>\n",
      "1 2 3 4 5 6\n"
     ]
    }
   ],
   "source": [
    "a = input('enter a number')\n",
    "print(type(a))\n",
    "print(a)"
   ]
  },
  {
   "cell_type": "code",
   "execution_count": 80,
   "metadata": {},
   "outputs": [
    {
     "name": "stdout",
     "output_type": "stream",
     "text": [
      "['application', 'test', 'working']\n"
     ]
    }
   ],
   "source": [
    "s = \"application test working\"\n",
    "li = s.split()\n",
    "print(li)"
   ]
  },
  {
   "cell_type": "code",
   "execution_count": 81,
   "metadata": {},
   "outputs": [
    {
     "name": "stdout",
     "output_type": "stream",
     "text": [
      "[' git', 'm hyder', 'b', 'd python progr', 'mming']\n"
     ]
    }
   ],
   "source": [
    "s1 = \" gitam hyderabad python programming\"\n",
    "li1 = s1.split('a')\n",
    "print(li1)"
   ]
  },
  {
   "cell_type": "code",
   "execution_count": 82,
   "metadata": {},
   "outputs": [
    {
     "data": {
      "text/plain": [
       "[1, 2, 3, 4, 5, 6]"
      ]
     },
     "execution_count": 82,
     "metadata": {},
     "output_type": "execute_result"
    }
   ],
   "source": [
    "# define a function to convert the string to list\n",
    "def stringtolist(s):\n",
    "    li = s.split() # divide the string by white space\n",
    "    # ['1','2',. . . . '6']\n",
    "    numberlist = []\n",
    "    for i in li:\n",
    "        numberlist.append(int(i))\n",
    "    return numberlist\n",
    "stringtolist('1 2 3 4 5 6')"
   ]
  },
  {
   "cell_type": "code",
   "execution_count": null,
   "metadata": {},
   "outputs": [],
   "source": []
  }
 ],
 "metadata": {
  "kernelspec": {
   "display_name": "Python 3",
   "language": "python",
   "name": "python3"
  },
  "language_info": {
   "codemirror_mode": {
    "name": "ipython",
    "version": 3
   },
   "file_extension": ".py",
   "mimetype": "text/x-python",
   "name": "python",
   "nbconvert_exporter": "python",
   "pygments_lexer": "ipython3",
   "version": "3.7.1"
  }
 },
 "nbformat": 4,
 "nbformat_minor": 2
}
